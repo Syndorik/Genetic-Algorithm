{
 "cells": [
  {
   "cell_type": "code",
   "execution_count": 1,
   "metadata": {},
   "outputs": [],
   "source": [
    "import os\n",
    "import sys\n",
    "sys.path.insert(0,\"../lib\")\n",
    "import argparse\n",
    "import pandas as pd\n",
    "import numpy as np\n",
    "import copy"
   ]
  },
  {
   "cell_type": "code",
   "execution_count": 2,
   "metadata": {},
   "outputs": [],
   "source": [
    "sys.path.insert(0,\"./lib\")"
   ]
  },
  {
   "cell_type": "code",
   "execution_count": 3,
   "metadata": {},
   "outputs": [],
   "source": [
    "def read_excel_data(filename, sheet_name):\n",
    "    data = pd.read_excel(filename, sheet_name=sheet_name, header=None)\n",
    "    values = data.values\n",
    "    return values"
   ]
  },
  {
   "cell_type": "code",
   "execution_count": 4,
   "metadata": {},
   "outputs": [],
   "source": [
    "mysheet = \"../data/InputDataHubSmallInstance.xlsx\""
   ]
  },
  {
   "cell_type": "code",
   "execution_count": 5,
   "metadata": {},
   "outputs": [],
   "source": [
    "list_files = [read_excel_data(mysheet, \"NodeNum\"), read_excel_data(mysheet, \"flow\"), read_excel_data(mysheet, \"varCost\"),\n",
    "                read_excel_data(mysheet, \"fixCost\"), read_excel_data(mysheet, \"alpha\"), read_excel_data(mysheet, \"Cap\")]"
   ]
  },
  {
   "cell_type": "code",
   "execution_count": 6,
   "metadata": {},
   "outputs": [],
   "source": [
    "flow = list_files[1]\n",
    "Origin = [0 for k in list(range(0,list_files[0][0][0]))]\n",
    "Destination = [0 for k in list(range(0,list_files[0][0][0]))]\n",
    "\n",
    "for i in range(0,list_files[0][0][0]):\n",
    "    for j in range(0,list_files[0][0][0]):\n",
    "        Origin[i] += flow[i,j]\n",
    "        Destination[i] += flow[j,i]\n",
    "\n",
    "Origin = np.array(Origin)\n",
    "Destination = np.array(Destination)\n",
    "list_files.append(Origin)\n",
    "list_files.append(Destination)"
   ]
  },
  {
   "cell_type": "code",
   "execution_count": 7,
   "metadata": {},
   "outputs": [],
   "source": [
    "import random as rd\n",
    "from Tree import Tree\n",
    "from GA import GA\n",
    "from TreePop import TreePop\n",
    "import sys"
   ]
  },
  {
   "cell_type": "code",
   "execution_count": 65,
   "metadata": {},
   "outputs": [],
   "source": [
    "a = [1,2,3,4,5,6,7,8,9]"
   ]
  },
  {
   "cell_type": "code",
   "execution_count": 108,
   "metadata": {},
   "outputs": [
    {
     "data": {
      "text/plain": [
       "[8, 2, 3]"
      ]
     },
     "execution_count": 108,
     "metadata": {},
     "output_type": "execute_result"
    }
   ],
   "source": [
    "list(set(rd.choices(a, k = 3)))"
   ]
  },
  {
   "cell_type": "code",
   "execution_count": 63,
   "metadata": {},
   "outputs": [
    {
     "name": "stdout",
     "output_type": "stream",
     "text": [
      "2\n",
      "[]\n"
     ]
    }
   ],
   "source": [
    "n = rd.choice(a)\n",
    "a.pop(a.index(n))\n",
    "print(n)\n",
    "print(a)"
   ]
  },
  {
   "cell_type": "code",
   "execution_count": 8,
   "metadata": {},
   "outputs": [],
   "source": [
    "rsize1 = [8, 3, 0, 9, 2, 3, 1, 5, 8, 10]\n",
    "rsize2 = [4, 4, 4, 8, 0, 10, 3, 6, 6, 5]\n",
    "r_mtr1 = Tree(list_files,prufer = rsize1)\n",
    "r_mtr2 = Tree(list_files,prufer =  rsize2)"
   ]
  },
  {
   "cell_type": "code",
   "execution_count": 9,
   "metadata": {},
   "outputs": [],
   "source": [
    "ga = GA(list_files)"
   ]
  },
  {
   "cell_type": "code",
   "execution_count": 10,
   "metadata": {},
   "outputs": [],
   "source": [
    "import random"
   ]
  },
  {
   "cell_type": "code",
   "execution_count": 11,
   "metadata": {},
   "outputs": [],
   "source": [
    "l_size1 = [1, 0, 3, 0, 5, 4]\n",
    "l_size2 = [5, 1, 1, 4, 0, 0]\n",
    "l_size3 = [0, 1, 3, 4, 0, 5]\n",
    "l_mtr1 = Tree(list_files,prufer =  l_size1)\n",
    "l_mtr2 = Tree(list_files,prufer =  l_size2)\n",
    "l_mtr1.calc_fit()\n",
    "l_mtr2.calc_fit()\n",
    "l_mtr3 = Tree(list_files,prufer =  l_size3)\n",
    "l_mtr3.calc_fit()"
   ]
  },
  {
   "cell_type": "markdown",
   "metadata": {},
   "source": [
    "# Test Evolve "
   ]
  },
  {
   "cell_type": "code",
   "execution_count": 20,
   "metadata": {},
   "outputs": [
    {
     "data": {
      "text/plain": [
       "<Tree.Tree at 0x1498c3d72b0>"
      ]
     },
     "execution_count": 20,
     "metadata": {},
     "output_type": "execute_result"
    }
   ],
   "source": [
    "test_evolve = []\n",
    "for k in range(30):\n",
    "    l_size = [rd.randint(0,7) for k in range(6)]\n",
    "    l_mtr = Tree(list_files,prufer =  l_size)\n",
    "    l_mtr.calc_fit()\n",
    "    test_evolve.append(l_mtr)\n",
    "evepop = TreePop(30,list_files)\n",
    "evepop.tree_pop = test_evolve\n",
    "evepop.get_fittest()"
   ]
  },
  {
   "cell_type": "code",
   "execution_count": 32,
   "metadata": {},
   "outputs": [],
   "source": [
    "myevol = ga.evolve_population(evepop)"
   ]
  },
  {
   "cell_type": "code",
   "execution_count": 33,
   "metadata": {},
   "outputs": [
    {
     "name": "stdout",
     "output_type": "stream",
     "text": [
      "Index : 0 and Fitness : 7775679\n",
      "Index : 1 and Fitness : 8811592\n",
      "Index : 2 and Fitness : 8815629\n",
      "Index : 3 and Fitness : 9535710\n",
      "Index : 4 and Fitness : 9536763\n",
      "Index : 5 and Fitness : 708154319999999\n",
      "Index : 6 and Fitness : 751330355000000\n",
      "Index : 7 and Fitness : 754540555000000\n",
      "Index : 8 and Fitness : 757629210000000\n",
      "Index : 9 and Fitness : 771792695000000\n",
      "Index : 10 and Fitness : 789476890000000\n",
      "Index : 11 and Fitness : 795279830000000\n",
      "Index : 12 and Fitness : 801763450000000\n",
      "Index : 13 and Fitness : 822584445000000\n",
      "Index : 14 and Fitness : 824260540000000\n",
      "Index : 15 and Fitness : 831379060000000\n",
      "Index : 16 and Fitness : 836100250000000\n",
      "Index : 17 and Fitness : 836303110000000\n",
      "Index : 18 and Fitness : 836342205000000\n",
      "Index : 19 and Fitness : 849199000000000\n",
      "Index : 20 and Fitness : 853078605000000\n",
      "Index : 21 and Fitness : 859634825000000\n",
      "Index : 22 and Fitness : 876922400000000\n",
      "Index : 23 and Fitness : 892760439999999\n",
      "Index : 24 and Fitness : 904294710000000\n",
      "Index : 25 and Fitness : 928405600000000\n",
      "Index : 26 and Fitness : 937766804999999\n",
      "Index : 27 and Fitness : 953660700000000\n",
      "Index : 28 and Fitness : 1010269850000000\n",
      "Index : 29 and Fitness : 1030243795000000\n",
      "##########\n"
     ]
    }
   ],
   "source": [
    "myevol.tree_pop.sort(key= lambda x: x.fitness )\n",
    "for k in range(len(myevol.tree_pop)) :\n",
    "    print(\"Index : {} and Fitness : {}\".format(k,int(myevol.tree_pop[k].fitness)))\n",
    "print(\"##########\")"
   ]
  },
  {
   "cell_type": "markdown",
   "metadata": {},
   "source": [
    "# Test population"
   ]
  },
  {
   "cell_type": "code",
   "execution_count": 14,
   "metadata": {},
   "outputs": [],
   "source": [
    "test_pop = [l_mtr1,l_mtr2,l_mtr3]\n",
    "for k in range(10):\n",
    "    l_size = [rd.randint(0,7) for k in range(6)]\n",
    "    l_mtr = Tree(list_files,prufer =  l_size)\n",
    "    l_mtr.calc_fit()\n",
    "    test_pop.append(l_mtr)\n",
    "my_pop = TreePop(12,list_files)\n",
    "my_pop.tree_pop = test_pop"
   ]
  },
  {
   "cell_type": "code",
   "execution_count": 15,
   "metadata": {},
   "outputs": [
    {
     "name": "stdout",
     "output_type": "stream",
     "text": [
      "Index : 0 and Fitness : 8422718.25\n",
      "Index : 1 and Fitness : 8422718.25\n",
      "Index : 2 and Fitness : 1021382710000000.1\n",
      "Index : 3 and Fitness : 1029851214999999.9\n",
      "Index : 4 and Fitness : 1178962844999999.8\n",
      "Index : 5 and Fitness : 1178962844999999.8\n",
      "##########\n",
      "The winner of the tournament is : 8422718.25\n"
     ]
    }
   ],
   "source": [
    "tmp = ga.tournament_select(my_pop)\n",
    "fittest = tmp[0]\n",
    "selection = tmp[1]\n",
    "\n",
    "selection.tree_pop.sort(key = lambda x : x.fitness)\n",
    "for k in range(len(selection.tree_pop)) :\n",
    "    print(\"Index : {} and Fitness : {}\".format(k,selection.tree_pop[k].fitness))\n",
    "print(\"##########\")\n",
    "print(\"The winner of the tournament is : {}\".format(fittest.fitness))"
   ]
  },
  {
   "cell_type": "markdown",
   "metadata": {},
   "source": [
    "# Test mutation optimized"
   ]
  },
  {
   "cell_type": "code",
   "execution_count": 16,
   "metadata": {},
   "outputs": [
    {
     "name": "stdout",
     "output_type": "stream",
     "text": [
      "origin prufer : [1, 0, 3, 0, 5, 4] \n",
      "origin fitness : 1079566644999999.9\n",
      "#########\n",
      "ls prufer : [0, 1, 3, 4, 0, 5] \n",
      "ls fitness : 8422718.25\n"
     ]
    }
   ],
   "source": [
    "print(\"origin prufer : {} \".format(l_mtr1.prufer))\n",
    "print(\"origin fitness : {}\".format(l_mtr1.fitness))\n",
    "\n",
    "mutate = ga.mutate_2opt(l_mtr1)\n",
    "print(\"#########\")\n",
    "print(\"ls prufer : {} \".format(mutate.prufer))\n",
    "print(\"ls fitness : {}\".format(mutate.fitness))"
   ]
  },
  {
   "cell_type": "markdown",
   "metadata": {},
   "source": [
    "# Test cross over k_point"
   ]
  },
  {
   "cell_type": "code",
   "execution_count": 17,
   "metadata": {},
   "outputs": [
    {
     "name": "stdout",
     "output_type": "stream",
     "text": [
      "origin prufer : [1, 0, 3, 0, 5, 4] \n",
      "crossover prufer : [1, 1, 3, 4, 0, 0]\n"
     ]
    }
   ],
   "source": [
    "print(\"origin prufer : {} \".format(l_mtr1.prufer))\n",
    "cross = ga.crossover_kpoint(l_mtr1,l_mtr2)\n",
    "print(\"crossover prufer : {}\".format(cross.prufer))"
   ]
  },
  {
   "cell_type": "code",
   "execution_count": 1,
   "metadata": {},
   "outputs": [],
   "source": [
    "a =[1,2,1,1,1]"
   ]
  },
  {
   "cell_type": "code",
   "execution_count": 2,
   "metadata": {},
   "outputs": [
    {
     "data": {
      "text/plain": [
       "4"
      ]
     },
     "execution_count": 2,
     "metadata": {},
     "output_type": "execute_result"
    }
   ],
   "source": [
    "a.count(1)"
   ]
  },
  {
   "cell_type": "code",
   "execution_count": null,
   "metadata": {},
   "outputs": [],
   "source": []
  }
 ],
 "metadata": {
  "kernelspec": {
   "display_name": "Python 3",
   "language": "python",
   "name": "python3"
  },
  "language_info": {
   "codemirror_mode": {
    "name": "ipython",
    "version": 3
   },
   "file_extension": ".py",
   "mimetype": "text/x-python",
   "name": "python",
   "nbconvert_exporter": "python",
   "pygments_lexer": "ipython3",
   "version": "3.6.7"
  }
 },
 "nbformat": 4,
 "nbformat_minor": 2
}
