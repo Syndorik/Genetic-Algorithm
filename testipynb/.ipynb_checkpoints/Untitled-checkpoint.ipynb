{
 "cells": [
  {
   "cell_type": "code",
   "execution_count": 1,
   "metadata": {},
   "outputs": [],
   "source": [
    "import os\n",
    "import sys\n",
    "sys.path.insert(0,\"../lib\")\n",
    "import argparse\n",
    "import pandas as pd\n",
    "import numpy as np\n",
    "import copy"
   ]
  },
  {
   "cell_type": "code",
   "execution_count": 2,
   "metadata": {},
   "outputs": [],
   "source": [
    "sys.path.insert(0,\"./lib\")"
   ]
  },
  {
   "cell_type": "code",
   "execution_count": 3,
   "metadata": {},
   "outputs": [],
   "source": [
    "def read_excel_data(filename, sheet_name):\n",
    "    data = pd.read_excel(filename, sheet_name=sheet_name, header=None)\n",
    "    values = data.values\n",
    "    return values"
   ]
  },
  {
   "cell_type": "code",
   "execution_count": 4,
   "metadata": {},
   "outputs": [],
   "source": [
    "mysheet = \"../data/InputDataHubSmallInstance.xlsx\""
   ]
  },
  {
   "cell_type": "code",
   "execution_count": 5,
   "metadata": {},
   "outputs": [],
   "source": [
    "list_files = [read_excel_data(mysheet, \"NodeNum\"), read_excel_data(mysheet, \"flow\"), read_excel_data(mysheet, \"varCost\"),\n",
    "                read_excel_data(mysheet, \"fixCost\"), read_excel_data(mysheet, \"alpha\"), read_excel_data(mysheet, \"Cap\")]"
   ]
  },
  {
   "cell_type": "code",
   "execution_count": 6,
   "metadata": {},
   "outputs": [],
   "source": [
    "flow = list_files[1]\n",
    "Origin = [0 for k in list(range(0,list_files[0][0][0]))]\n",
    "Destination = [0 for k in list(range(0,list_files[0][0][0]))]\n",
    "\n",
    "for i in range(0,list_files[0][0][0]):\n",
    "    for j in range(0,list_files[0][0][0]):\n",
    "        Origin[i] += flow[i,j]\n",
    "        Destination[i] += flow[j,i]\n",
    "\n",
    "Origin = np.array(Origin)\n",
    "Destination = np.array(Destination)\n",
    "list_files.append(Origin)\n",
    "list_files.append(Destination)"
   ]
  },
  {
   "cell_type": "code",
   "execution_count": 7,
   "metadata": {},
   "outputs": [],
   "source": [
    "import random as rd\n",
    "from Tree import Tree\n",
    "from GA import GA\n",
    "from TreePop import TreePop\n",
    "import sys"
   ]
  },
  {
   "cell_type": "code",
   "execution_count": 8,
   "metadata": {},
   "outputs": [],
   "source": [
    "rsize1 = [8, 3, 0, 9, 2, 3, 1, 5, 8, 10]\n",
    "rsize2 = [4, 4, 4, 8, 0, 10, 3, 6, 6, 5]\n",
    "r_mtr1 = Tree(list_files,prufer = rsize1)\n",
    "r_mtr2 = Tree(list_files,prufer =  rsize2)"
   ]
  },
  {
   "cell_type": "code",
   "execution_count": 9,
   "metadata": {},
   "outputs": [],
   "source": [
    "ga = GA(list_files)"
   ]
  },
  {
   "cell_type": "code",
   "execution_count": 10,
   "metadata": {},
   "outputs": [],
   "source": [
    "import random"
   ]
  },
  {
   "cell_type": "code",
   "execution_count": 11,
   "metadata": {},
   "outputs": [],
   "source": [
    "l_size1 = [1, 0, 3, 0, 5, 4]\n",
    "l_size2 = [5, 1, 1, 4, 0, 0]\n",
    "l_size3 = [0, 1, 3, 4, 0, 5]\n",
    "l_mtr1 = Tree(list_files,prufer =  l_size1)\n",
    "l_mtr2 = Tree(list_files,prufer =  l_size2)\n",
    "l_mtr1.calc_fit()\n",
    "l_mtr2.calc_fit()\n",
    "l_mtr3 = Tree(list_files,prufer =  l_size3)\n",
    "l_mtr3.calc_fit()"
   ]
  },
  {
   "cell_type": "code",
   "execution_count": 12,
   "metadata": {},
   "outputs": [],
   "source": [
    "test_pop = [l_mtr1,l_mtr2,l_mtr3]\n",
    "for k in range(10):\n",
    "    l_size = [rd.randint(0,7) for k in range(6)]\n",
    "    l_mtr = Tree(list_files,prufer =  l_size)\n",
    "    l_mtr.calc_fit()\n",
    "    test_pop.append(l_mtr)\n",
    "\n",
    "test_pop.sort(key = lambda x : x.fitness)"
   ]
  },
  {
   "cell_type": "code",
   "execution_count": null,
   "metadata": {},
   "outputs": [],
   "source": [
    "my_pop = Tr"
   ]
  },
  {
   "cell_type": "markdown",
   "metadata": {},
   "source": [
    "# Test population"
   ]
  },
  {
   "cell_type": "code",
   "execution_count": 13,
   "metadata": {},
   "outputs": [
    {
     "name": "stdout",
     "output_type": "stream",
     "text": [
      "Index : 0 and Fitness : 8422718.25\n",
      "Index : 1 and Fitness : 12091079.5\n",
      "Index : 2 and Fitness : 833946835000000.0\n",
      "Index : 3 and Fitness : 928893750000000.0\n",
      "Index : 4 and Fitness : 973087485000000.1\n",
      "Index : 5 and Fitness : 1008179244999999.9\n",
      "Index : 6 and Fitness : 1042419845000000.1\n",
      "Index : 7 and Fitness : 1072423744999999.9\n",
      "Index : 8 and Fitness : 1079566644999999.9\n",
      "Index : 9 and Fitness : 1109704365000000.2\n",
      "Index : 10 and Fitness : 1136798475000000.0\n",
      "Index : 11 and Fitness : 1187951744999999.8\n",
      "Index : 12 and Fitness : 1263777495000000.0\n"
     ]
    }
   ],
   "source": [
    "for k in range(len(test_pop)) :\n",
    "    print(\"Index : {} and Fitness : {}\".format(k,test_pop[k].fitness))"
   ]
  },
  {
   "cell_type": "code",
   "execution_count": 16,
   "metadata": {},
   "outputs": [
    {
     "ename": "AttributeError",
     "evalue": "'list' object has no attribute 'tree_pop'",
     "output_type": "error",
     "traceback": [
      "\u001b[1;31m---------------------------------------------------------------------------\u001b[0m",
      "\u001b[1;31mAttributeError\u001b[0m                            Traceback (most recent call last)",
      "\u001b[1;32m<ipython-input-16-40abeac8b95d>\u001b[0m in \u001b[0;36m<module>\u001b[1;34m\u001b[0m\n\u001b[1;32m----> 1\u001b[1;33m \u001b[0mga\u001b[0m\u001b[1;33m.\u001b[0m\u001b[0mtournament_select\u001b[0m\u001b[1;33m(\u001b[0m\u001b[0mtest_pop\u001b[0m\u001b[1;33m)\u001b[0m\u001b[1;33m\u001b[0m\u001b[1;33m\u001b[0m\u001b[0m\n\u001b[0m",
      "\u001b[1;32mD:\\Jupyter\\Aide a la decision\\GA\\lib\\GA.py\u001b[0m in \u001b[0;36mtournament_select\u001b[1;34m(self, population)\u001b[0m\n\u001b[0;32m     64\u001b[0m         \u001b[1;31m# fills it with random individuals (can choose same twice)\u001b[0m\u001b[1;33m\u001b[0m\u001b[1;33m\u001b[0m\u001b[1;33m\u001b[0m\u001b[0m\n\u001b[0;32m     65\u001b[0m         \u001b[1;32mfor\u001b[0m \u001b[0mi\u001b[0m \u001b[1;32min\u001b[0m \u001b[0mrange\u001b[0m\u001b[1;33m(\u001b[0m\u001b[0mself\u001b[0m\u001b[1;33m.\u001b[0m\u001b[0mtournament_size\u001b[0m\u001b[1;33m-\u001b[0m\u001b[1;36m1\u001b[0m\u001b[1;33m)\u001b[0m\u001b[1;33m:\u001b[0m\u001b[1;33m\u001b[0m\u001b[1;33m\u001b[0m\u001b[0m\n\u001b[1;32m---> 66\u001b[1;33m             \u001b[0mtournament_pop\u001b[0m\u001b[1;33m.\u001b[0m\u001b[0mtree_pop\u001b[0m\u001b[1;33m.\u001b[0m\u001b[0mappend\u001b[0m\u001b[1;33m(\u001b[0m\u001b[0mrandom\u001b[0m\u001b[1;33m.\u001b[0m\u001b[0mchoice\u001b[0m\u001b[1;33m(\u001b[0m\u001b[0mpopulation\u001b[0m\u001b[1;33m.\u001b[0m\u001b[0mtree_pop\u001b[0m\u001b[1;33m)\u001b[0m\u001b[1;33m)\u001b[0m\u001b[1;33m\u001b[0m\u001b[1;33m\u001b[0m\u001b[0m\n\u001b[0m\u001b[0;32m     67\u001b[0m \u001b[1;33m\u001b[0m\u001b[0m\n\u001b[0;32m     68\u001b[0m         \u001b[1;31m# returns the fittest:\u001b[0m\u001b[1;33m\u001b[0m\u001b[1;33m\u001b[0m\u001b[1;33m\u001b[0m\u001b[0m\n",
      "\u001b[1;31mAttributeError\u001b[0m: 'list' object has no attribute 'tree_pop'"
     ]
    }
   ],
   "source": [
    "ga.tournament_select(test_pop)"
   ]
  },
  {
   "cell_type": "markdown",
   "metadata": {},
   "source": [
    "# Test mutation optimized"
   ]
  },
  {
   "cell_type": "code",
   "execution_count": 14,
   "metadata": {},
   "outputs": [
    {
     "name": "stdout",
     "output_type": "stream",
     "text": [
      "origin prufer : [1, 0, 3, 0, 5, 4] \n",
      "origin fitness : 1079566644999999.9\n",
      "#########\n",
      "ls prufer : [0, 1, 3, 4, 0, 5] \n",
      "ls fitness : 8422718.25\n"
     ]
    }
   ],
   "source": [
    "print(\"origin prufer : {} \".format(l_mtr1.prufer))\n",
    "print(\"origin fitness : {}\".format(l_mtr1.fitness))\n",
    "\n",
    "mutate = ga.mutate_2opt(l_mtr1)\n",
    "print(\"#########\")\n",
    "print(\"ls prufer : {} \".format(mutate.prufer))\n",
    "print(\"ls fitness : {}\".format(mutate.fitness))"
   ]
  },
  {
   "cell_type": "markdown",
   "metadata": {},
   "source": [
    "# Test cross over k_point"
   ]
  },
  {
   "cell_type": "code",
   "execution_count": 15,
   "metadata": {},
   "outputs": [
    {
     "name": "stdout",
     "output_type": "stream",
     "text": [
      "origin prufer : [1, 0, 3, 0, 5, 4] \n",
      "crossover prufer : [1, 0, 1, 0, 5, 4]\n"
     ]
    }
   ],
   "source": [
    "print(\"origin prufer : {} \".format(l_mtr1.prufer))\n",
    "cross = ga.crossover_kpoint(l_mtr1,l_mtr2)\n",
    "print(\"crossover prufer : {}\".format(cross.prufer))"
   ]
  }
 ],
 "metadata": {
  "kernelspec": {
   "display_name": "Python 3",
   "language": "python",
   "name": "python3"
  },
  "language_info": {
   "codemirror_mode": {
    "name": "ipython",
    "version": 3
   },
   "file_extension": ".py",
   "mimetype": "text/x-python",
   "name": "python",
   "nbconvert_exporter": "python",
   "pygments_lexer": "ipython3",
   "version": "3.6.7"
  }
 },
 "nbformat": 4,
 "nbformat_minor": 2
}
